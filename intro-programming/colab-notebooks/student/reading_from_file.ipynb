{
  "cells": [
    {
      "cell_type": "markdown",
      "metadata": {
        "id": "FWAxfgBLDry8"
      },
      "source": [
        "<div style=\"text-align:center;\">\n",
        "  <img src=\"https://github.com/act-cms/foundational-modules/blob/main/intro-programming/colab-notebooks/images/act-cms-header.png?raw=true\">\n",
        "</div>\n",
        "<div>\n",
        "<center>\n",
        "<a href=\"https://act-cms.molssi.org/\">act-cms.molssi.org</a>\n",
        "\n",
        "# Reading Information from Files (File Parsing)\n",
        "\n",
        "\n",
        "\n",
        "\n"
      ]
    },
    {
      "cell_type": "code",
      "source": [
        "# @title Overview\n",
        "%%html\n",
        "<style>\n",
        "div.info {\n",
        "    color: #0056b3;\n",
        "    background-color: #d9edf7;\n",
        "    border-left: 5px solid #31708f;\n",
        "    padding: 0.5em;\n",
        "    font-size: 1.25em; /* A little larger the surrounding text size */\n",
        "    line-height: 1.5; /* Ensures readability */\n",
        "}\n",
        "div.info ul {\n",
        "    margin: 0.5em 0; /* Space around the list */\n",
        "}\n",
        "div.info li {\n",
        "    margin-bottom: 0.5em; /* Space between list items */\n",
        "}\n",
        "</style>\n",
        "\n",
        "<div class=\"info\">\n",
        "    <strong>Questions:</strong>\n",
        "    <ul>\n",
        "        <li>How can I use Python to read text files?</li>\n",
        "        <li>How do I sort through all the information in a text file and extract particular pieces of information?</li>\n",
        "    </ul>\n",
        "\n",
        "    <strong>Objectives:</strong>\n",
        "    <ul>\n",
        "        <li>Open a file and read in its contents line by line.</li>\n",
        "        <li>Search for a particular string in a file.</li>\n",
        "        <li>Manipulate strings and change data types.</li>\n",
        "    </ul>\n",
        "</div>"
      ],
      "metadata": {
        "colab": {
          "base_uri": "https://localhost:8080/",
          "height": 280
        },
        "cellView": "form",
        "id": "bzZkID9F1FWt",
        "outputId": "4d89e3f3-27ab-4d33-9128-fe4052de6273"
      },
      "execution_count": null,
      "outputs": [
        {
          "output_type": "display_data",
          "data": {
            "text/plain": [
              "<IPython.core.display.HTML object>"
            ],
            "text/html": [
              "<style>\n",
              "div.info {\n",
              "    color: #0056b3;\n",
              "    background-color: #d9edf7;\n",
              "    border-left: 5px solid #31708f;\n",
              "    padding: 0.5em;\n",
              "    font-size: 1.25em; /* A little larger the surrounding text size */\n",
              "    line-height: 1.5; /* Ensures readability */\n",
              "}\n",
              "div.info ul {\n",
              "    margin: 0.5em 0; /* Space around the list */\n",
              "}\n",
              "div.info li {\n",
              "    margin-bottom: 0.5em; /* Space between list items */\n",
              "}\n",
              "</style>\n",
              "\n",
              "<div class=\"info\">\n",
              "    <strong>Questions:</strong>\n",
              "    <ul>\n",
              "        <li>How can I use Python to read text files?</li>\n",
              "        <li>How do I sort through all the information in a text file and extract particular pieces of information?</li>\n",
              "    </ul>\n",
              "\n",
              "    <strong>Objectives:</strong>\n",
              "    <ul>\n",
              "        <li>Open a file and read in its contents line by line.</li>\n",
              "        <li>Search for a particular string in a file.</li>\n",
              "        <li>Manipulate strings and change data types.</li>\n",
              "    </ul>\n",
              "</div>\n"
            ]
          },
          "metadata": {}
        }
      ]
    },
    {
      "cell_type": "markdown",
      "source": [
        "## Working with files\n",
        "\n",
        "One of the most common tasks in research is analyzing data.\n",
        "Many computational chemistry programs output text files that include a large amount of information including text and data that you need to analyze. Often, you need to sort through the output file and identify particular pieces of information that are most important to you.\n",
        "In general, this is called \"file parsing\".\n",
        "\n",
        "In this notebook, we will learn how to open a text file and use Python to go through the information in the file.\n",
        "We will be opening a file from the quantum chemistry package Psi4 and looking for the Final Energy that was calculated for the molecule.\n",
        "\n",
        "The line we will get information from looks like this:\n",
        "\n",
        "```\n",
        " @DF-RHF Final Energy:  -154.09130176573018\n",
        "```\n",
        "\n",
        "We know that because we have previewed the file in a text editor. Whenever you are looking for information in a text file, you first have to figure out what that information looks like so that you can write a program for it!\n",
        "\n",
        "## Putting Files on Google Drive\n",
        "[Click this link to download files for this lesson](https://github.com/act-cms/foundational-modules/raw/refs/heads/main/intro-programming/intro_programming_data.zip).\n",
        "\n",
        "After you have downloaded this folder, you should unzip the file to your local computer. On Windows, you should right click the Zip file and choose \"Extract All\"\n",
        "\n",
        "Next, navigate to your Google Drive and upload the folder you unzipped (should be named `intro_programming_data`) to Google Drive.\n",
        "\n",
        "\n",
        "## Accessing Files From Google Drive in Your Notebook\n",
        "\n",
        "We will need to read files that we have stored on Google Drive.\n",
        "We will use a few special lines of code to do this.\n",
        "\n",
        "The cell below will mount your Google Drive so that you can access the files. After you run this code, a pop up window will ask you if you allow Google Colab to access Google Drive.\n",
        "Choose \"yes\" to these questions.\n",
        "\n",
        "<img src=\"https://github.com/act-cms/foundational-modules/blob/main/intro-programming/colab-notebooks/images/google_colab_file_access.png?raw=true\">\n"
      ],
      "metadata": {
        "id": "XlNzc67U1FlV"
      }
    },
    {
      "cell_type": "code",
      "source": [
        "from google.colab import drive\n",
        "\n",
        "drive.mount('/content/drive')"
      ],
      "metadata": {
        "colab": {
          "base_uri": "https://localhost:8080/"
        },
        "id": "-pasPjLaD6id",
        "outputId": "5f16704b-b3e7-4f26-caa0-7e05230c5246"
      },
      "execution_count": null,
      "outputs": [
        {
          "output_type": "stream",
          "name": "stdout",
          "text": [
            "Mounted at /content/drive\n"
          ]
        }
      ]
    },
    {
      "cell_type": "markdown",
      "source": [
        "When you are done, you will be able to see your Google Drive files by clicking the folder icon to the left.\n",
        "\n",
        "<img src=\"https://github.com/act-cms/foundational-modules/blob/main/intro-programming/colab-notebooks/images/view_files_colab.png?raw=true\">\n",
        "\n",
        "\n",
        "## Previewing the File\n",
        "\n",
        "Click the arrow beside \"drive\" to expand your view. Next, find the \"intro_programming_data\" folder and expand it by clicking the arrow button.\n",
        "Repeat this for the \"outfiles\" folder, then double click on the file \"ethanol.out\".\n",
        "\n",
        "This will open a tab to the right of the notebook where you can preview the file. If you scroll to line `228`, you will see the piece of information we would like to get from this file."
      ],
      "metadata": {
        "id": "g3n0DqaUxncl"
      }
    },
    {
      "cell_type": "markdown",
      "source": [
        "\n",
        "## Getting the File Path\n",
        "\n",
        "For this section, we will be working with the file `ethanol.out` in the `intro_programming_data/outfiles` directory.\n",
        "\n",
        "You can find this file by expanding the \"drive\" folder shown in the image above, then expanding \"MyDrive\". Then, you should see the `intro_programming` folder that you added in the Workshop Setup instructions.\n",
        "\n",
        "Find the `ethanol.out` file in the `outfiles` folder. Then, right click the file name and click \"Copy Path\".\n",
        "This will give you the \"File Path\", or the directions to find the file. We will use this in to tell Python where the file is."
      ],
      "metadata": {
        "id": "-BcyufuzEAdD"
      }
    },
    {
      "cell_type": "markdown",
      "metadata": {
        "id": "SVjDcBtHDry_"
      },
      "source": [
        "The file we will be working with is in the `outfiles` folder and is `ethanol.out`. We will pull a piece of information (the energy) from this file.\n",
        "\n",
        "We will open the file in the next step, but first, we have to tell Python where the file is.\n",
        "We will create a variable called `ethanol_file` that contains a string that tells Python where the file is.\n",
        "This string will have folder names and file names separated by forward slashes (`/`) and is called a \"file path\" that we copied previously.\n",
        "\n",
        "When deciding your file path, you can think about what you would tell someone to click in order to find the file."
      ]
    },
    {
      "cell_type": "code",
      "execution_count": null,
      "metadata": {
        "id": "C6EUmiXzDry_",
        "outputId": "3065cf9f-c917-4af8-8d7a-663f18df54a7",
        "colab": {
          "base_uri": "https://localhost:8080/"
        }
      },
      "outputs": [
        {
          "output_type": "stream",
          "name": "stdout",
          "text": [
            "/content/drive/MyDrive/intro_programming_data/outfiles/ethanol.out\n"
          ]
        }
      ],
      "source": [
        "ethanol_file = \"/content/drive/MyDrive/intro_programming_data/outfiles/ethanol.out\"\n",
        "print(ethanol_file)"
      ]
    },
    {
      "cell_type": "markdown",
      "metadata": {
        "id": "AG8landXDry_"
      },
      "source": [
        "## Reading a file\n",
        "\n",
        "In Python, there are many ways to read in information from a text file.\n",
        "The best method to use depends on the type of data and the type of analysis you are performing.\n",
        "We will use the `open` function to open the file, and another function called `readlines` to pull information out of the file.\n",
        "If you have a file with lots of different types of information, text and numbers, with different types of formatting, the most generic way to read in information is the `read` or `readlines` function.\n",
        "Before you can read in a file, you have to open the file using the file path we defined above.\n",
        "This will create a file object, or filehandle. The file we will be analyzing in this example is a Psi4 output file for a SCF/cc-pVDZ energy calculation for an ethanol molecule.\n",
        "\n",
        "In Python, when we use the `open` function, the syntax is\n",
        "\n",
        "```python\n",
        "with open(filename, open_mode) as variable:\n",
        "    # read the file\n",
        "    data = variable.readlines()\n",
        "```\n",
        "\n",
        "In the `open` function, we specify the file we want to open as the first argument to the function (`filename` above), followed by the opening mode. The `\"r\"` specifies that we want to read the file.\n",
        "\n",
        "Next, we use the `readlines` function. This pulls all of the information from the file into a `list`.\n",
        "Each element in the list is a line in the list."
      ]
    },
    {
      "cell_type": "code",
      "execution_count": null,
      "metadata": {
        "id": "Lxoc7R-9DrzA"
      },
      "outputs": [],
      "source": [
        "## Write your code here to read the file!\n",
        "with open(ethanol_file, \"r\") as f:\n",
        "  data = f.read()"
      ]
    },
    {
      "cell_type": "code",
      "source": [
        "# @title Exercise\n",
        "%%html\n",
        "<style>\n",
        "div.orange-alert {\n",
        "    color: #854f00; /* Darker shade of orange for text */\n",
        "    background-color: #ffe6cc; /* Light orange background */\n",
        "    border-left: 5px solid #ff9933; /* Bright orange border */\n",
        "    padding: 0.5em;\n",
        "    font-size: 1.25em; /* Matches the surrounding text size */\n",
        "    line-height: 1.5; /* Ensures readability */\n",
        "}\n",
        "div.orange-alert ul {\n",
        "    margin: 0.5em 0; /* Space around the list */\n",
        "}\n",
        "div.orange-alert li {\n",
        "    margin-bottom: 0.5em; /* Space between list items */\n",
        "}\n",
        "</style>\n",
        "\n",
        "<div class=\"orange-alert\">\n",
        "\n",
        "<strong>Check Your Understanding</strong>\n",
        "<p>\n",
        "Check that your file was read in correctly by determining how many lines are in the file.\n",
        "</p>\n",
        "<p>You should use a function you learned aobut in the last lesson for this.\n",
        "  </p>\n",
        "</div>"
      ],
      "metadata": {
        "colab": {
          "base_uri": "https://localhost:8080/",
          "height": 131
        },
        "cellView": "form",
        "id": "WAhvrwl3y_2A",
        "outputId": "d5eecf76-c61e-4cdc-d423-08a12270f9f0"
      },
      "execution_count": null,
      "outputs": [
        {
          "output_type": "display_data",
          "data": {
            "text/plain": [
              "<IPython.core.display.HTML object>"
            ],
            "text/html": [
              "<style>\n",
              "div.orange-alert {\n",
              "    color: #854f00; /* Darker shade of orange for text */\n",
              "    background-color: #ffe6cc; /* Light orange background */\n",
              "    border-left: 5px solid #ff9933; /* Bright orange border */\n",
              "    padding: 0.5em;\n",
              "    font-size: 1.25em; /* Matches the surrounding text size */\n",
              "    line-height: 1.5; /* Ensures readability */\n",
              "}\n",
              "div.orange-alert ul {\n",
              "    margin: 0.5em 0; /* Space around the list */\n",
              "}\n",
              "div.orange-alert li {\n",
              "    margin-bottom: 0.5em; /* Space between list items */\n",
              "}\n",
              "</style>\n",
              "\n",
              "<div class=\"orange-alert\">\n",
              "\n",
              "<strong>Check Your Understanding</strong>\n",
              "<p>\n",
              "Check that your file was read in correctly by determining how many lines are in the file.\n",
              "</p>\n",
              "<p>You should use a function you learned aobut in the last lesson for this.\n",
              "  </p>\n",
              "</div>\n"
            ]
          },
          "metadata": {}
        }
      ]
    },
    {
      "cell_type": "code",
      "source": [],
      "metadata": {
        "id": "QEA-F-5e-Apn"
      },
      "execution_count": null,
      "outputs": []
    },
    {
      "cell_type": "code",
      "source": [],
      "metadata": {
        "id": "UV_XCfvQyYxw"
      },
      "execution_count": null,
      "outputs": []
    },
    {
      "cell_type": "markdown",
      "source": [
        "## Searching for a pattern in your file\n",
        "\n",
        "The file we opened is an output file which calculates the energy (and a lot of other stuff!) for an ethanol molecule. As stated previously, the readlines() function put the file contents into a list where each element is a line of the file. You may remember from lesson 1 that a for loops can be used to execute the same code repeatedly. As we learned in the previous lesson, we can use a for loop to iterate through elements in a list.\n",
        "\n",
        "Let’s take a look at what’s in the file.\n",
        "\n",
        "```python\n",
        "for line in data:\n",
        "    print(line)\n",
        "```\n",
        "\n",
        "    print(line)\n",
        "\n",
        "This will print exactly what is in the file.\n",
        "\n",
        "If you look through the output, you will see that the critical line says “Final Energy”. We want to search through this file and find that line, and print only that line. We can do this using an if statement.\n",
        "\n",
        "Returning to our file example,\n"
      ],
      "metadata": {
        "id": "6eQ0BUiNyXx9"
      }
    },
    {
      "cell_type": "code",
      "execution_count": null,
      "metadata": {
        "id": "0_F3JFFkDrzA",
        "outputId": "00e6f515-3adc-4b1b-8606-a228b77c9ce2"
      },
      "outputs": [
        {
          "name": "stdout",
          "output_type": "stream",
          "text": [
            "  @DF-RHF Final Energy:  -154.09130176573018\n",
            "\n"
          ]
        }
      ],
      "source": [
        "for line in data:\n",
        "    if 'Final Energy' in line:\n",
        "        energy_line = line\n",
        "        print(energy_line)"
      ]
    },
    {
      "cell_type": "markdown",
      "metadata": {
        "id": "q-5zLBSADrzB"
      },
      "source": [
        "Remember that `readlines()` saves each line of the file as a string, so `energy_line` is a string that contains the whole line.\n",
        "For our analysis, if we are most interested in the energy, we need to split up the line so we can save just the number as a different variable name.\n",
        "To do this, we use a new function called `split`.\n",
        "The `split` function takes a string and divides it into its components using a delimiter.\n",
        "\n",
        "The delimiter is specified as an argument to the function (put in the parenthesis ()). If you do not specify a delimiter, a space is used by default. Let’s try this out."
      ]
    },
    {
      "cell_type": "code",
      "execution_count": null,
      "metadata": {
        "id": "HGQ9qHPIDrzB",
        "outputId": "5bbcadc6-b8e3-485b-e52d-00a66cf24a43"
      },
      "outputs": [
        {
          "data": {
            "text/plain": [
              "['@DF-RHF', 'Final', 'Energy:', '-154.09130176573018']"
            ]
          },
          "execution_count": 9,
          "metadata": {},
          "output_type": "execute_result"
        }
      ],
      "source": [
        "energy_line.split()"
      ]
    },
    {
      "cell_type": "markdown",
      "metadata": {
        "id": "SPqSJ7FCDrzB"
      },
      "source": [
        "Or, we an use the colon (`:`) as the delimiter."
      ]
    },
    {
      "cell_type": "code",
      "execution_count": null,
      "metadata": {
        "id": "1gbAzTJTDrzB",
        "outputId": "9ba4dd5f-d866-42e8-e71b-15671c94b676"
      },
      "outputs": [
        {
          "data": {
            "text/plain": [
              "['  @DF-RHF Final Energy', '  -154.09130176573018\\n']"
            ]
          },
          "execution_count": 10,
          "metadata": {},
          "output_type": "execute_result"
        }
      ],
      "source": [
        "## Split energy line on the colon\n",
        "energy_line.split(\":\")"
      ]
    },
    {
      "cell_type": "markdown",
      "metadata": {
        "id": "4wic2uJqDrzB"
      },
      "source": [
        "When we use ‘:’ as the delimiter, a list with two elements is returned. It is split where a colon was found.\n",
        "\n",
        "We can save the output of this function to a variable as a new list. In the example below, we take the line we found in the `for` loop and split it up into its individual words."
      ]
    },
    {
      "cell_type": "code",
      "execution_count": null,
      "metadata": {
        "id": "b_LaNvCtDrzB",
        "outputId": "576314b0-4c2c-44da-e073-d53205d47fbc"
      },
      "outputs": [
        {
          "name": "stdout",
          "output_type": "stream",
          "text": [
            "['@DF-RHF', 'Final', 'Energy:', '-154.09130176573018']\n"
          ]
        }
      ],
      "source": [
        "## Split energy_line on whitespace and save as variable called \"words\"\n",
        "words = energy_line.split()\n",
        "words"
      ]
    },
    {
      "cell_type": "markdown",
      "metadata": {
        "id": "POCyTvqfDrzB"
      },
      "source": [
        "From this `print` statement, we now see that we have a list called `words`, where we have split `energy_line`. The energy is actually the fourth element of this list, so we can now save it as a new variable."
      ]
    },
    {
      "cell_type": "code",
      "execution_count": null,
      "metadata": {
        "id": "igCpJMf1DrzB",
        "outputId": "fe868d50-8e7c-4ec6-b6c6-a749e6b62030"
      },
      "outputs": [
        {
          "name": "stdout",
          "output_type": "stream",
          "text": [
            "-154.09130176573018\n"
          ]
        }
      ],
      "source": [
        "energy = words[3]\n",
        "print(energy)"
      ]
    },
    {
      "cell_type": "code",
      "source": [
        "# @title Python Negative Indexing\n",
        "%%html\n",
        "<style>\n",
        "div.purple-box {\n",
        "    color: #4b0082; /* Indigo for text */\n",
        "    background-color: #f3e5f5; /* Light lavender background */\n",
        "    border-left: 5px solid #7b1fa2; /* Medium purple border */\n",
        "    padding: 0.5em;\n",
        "    font-size: 1.25em; /* Matches the surrounding text size */\n",
        "    line-height: 1.5; /* Ensures readability */\n",
        "    font-family: Arial, sans-serif; /* Clean, modern font */\n",
        "}\n",
        "div.purple-box ul {\n",
        "    margin: 0.5em 0; /* Space around the list */\n",
        "}\n",
        "div.purple-box li {\n",
        "    margin-bottom: 0.5em; /* Space between list items */\n",
        "}\n",
        "</style>\n",
        "\n",
        "<div class=\"purple-box\">\n",
        "    <strong>Python Negative Indexing:</strong>\n",
        "    <p>\n",
        "        We also recognize that the energy is the last element of the list. In Python, we can count backwards from the end of the list by using negative numbers. Therefore, an alternative way to assign energy is:\n",
        "    </p>\n",
        "    <pre>\n",
        "energy = words[-1]\n",
        "    </pre>\n",
        "</div>\n"
      ],
      "metadata": {
        "colab": {
          "base_uri": "https://localhost:8080/",
          "height": 178
        },
        "id": "-mpsNob6AEef",
        "outputId": "e3d139df-fb5d-487e-9790-f8af36ce3906",
        "cellView": "form"
      },
      "execution_count": null,
      "outputs": [
        {
          "output_type": "display_data",
          "data": {
            "text/plain": [
              "<IPython.core.display.HTML object>"
            ],
            "text/html": [
              "<style>\n",
              "div.purple-box {\n",
              "    color: #4b0082; /* Indigo for text */\n",
              "    background-color: #f3e5f5; /* Light lavender background */\n",
              "    border-left: 5px solid #7b1fa2; /* Medium purple border */\n",
              "    padding: 0.5em;\n",
              "    font-size: 1.25em; /* Matches the surrounding text size */\n",
              "    line-height: 1.5; /* Ensures readability */\n",
              "    font-family: Arial, sans-serif; /* Clean, modern font */\n",
              "}\n",
              "div.purple-box ul {\n",
              "    margin: 0.5em 0; /* Space around the list */\n",
              "}\n",
              "div.purple-box li {\n",
              "    margin-bottom: 0.5em; /* Space between list items */\n",
              "}\n",
              "</style>\n",
              "\n",
              "<div class=\"purple-box\">\n",
              "    <strong>Python Negative Indexing:</strong>\n",
              "    <p>\n",
              "        We also recognize that the energy is the last element of the list. In Python, we can count backwards from the end of the list by using negative numbers. Therefore, an alternative way to assign energy is:\n",
              "    </p>\n",
              "    <pre>\n",
              "energy = words[-1]\n",
              "    </pre>\n",
              "</div>\n"
            ]
          },
          "metadata": {}
        }
      ]
    },
    {
      "cell_type": "markdown",
      "metadata": {
        "id": "ufMfhT2ODrzC"
      },
      "source": [
        "If we now try to do a math operation on energy, we get an error message.\n",
        "Why do you think that is?"
      ]
    },
    {
      "cell_type": "code",
      "execution_count": null,
      "metadata": {
        "id": "aMn71CZGDrzC"
      },
      "outputs": [],
      "source": [
        "energy + 50"
      ]
    },
    {
      "cell_type": "markdown",
      "metadata": {
        "id": "pqfmqSRxDrzC"
      },
      "source": [
        "Even though energy looks like a number to us, it is really a string, so we can not add an integer to it. We need to change the data type of energy to a float. This is called casting."
      ]
    },
    {
      "cell_type": "code",
      "execution_count": null,
      "metadata": {
        "id": "1rrp-M0EDrzC"
      },
      "outputs": [],
      "source": [
        "energy = float(energy)"
      ]
    },
    {
      "cell_type": "markdown",
      "metadata": {
        "id": "E1DDGshyDrzC"
      },
      "source": [
        "Now our math operation will work. If we thought ahead, we could have changed the data type when we assigned the variable originally."
      ]
    },
    {
      "cell_type": "code",
      "execution_count": null,
      "metadata": {
        "id": "Lbg7L-VYDrzC"
      },
      "outputs": [],
      "source": [
        "energy = float(words[3])"
      ]
    },
    {
      "cell_type": "code",
      "source": [
        "# @title Final Challenge\n",
        "%%html\n",
        "<style>\n",
        "div.orange-alert {\n",
        "    color: #854f00; /* Darker shade of orange for text */\n",
        "    background-color: #ffe6cc; /* Light orange background */\n",
        "    border-left: 5px solid #ff9933; /* Bright orange border */\n",
        "    padding: 0.5em;\n",
        "    font-size: 1.25em; /* Matches the surrounding text size */\n",
        "    line-height: 1.5; /* Ensures readability */\n",
        "}\n",
        "div.orange-alert ul {\n",
        "    margin: 0.5em 0; /* Space around the list */\n",
        "}\n",
        "div.orange-alert li {\n",
        "    margin-bottom: 0.5em; /* Space between list items */\n",
        "}\n",
        "</style>\n",
        "<div class=\"orange-alert\">\n",
        "    <strong>Exercise on File Parsing:</strong>\n",
        "    <p>\n",
        "        The file <code>03_Prod.mdout</code> is an output file from an Amber molecular dynamics simulation.\n",
        "        Read in the file, and pull out all of the total energy values (<code>Etot</code>). Save the values in a list (don't forget to cast them to floating point numbers!).\n",
        "    </p>\n",
        "\n",
        "    <p>Remember to preview the file before you start writing code so you can come up with a strategy for pulling information from the file!</p>\n",
        "</div>\n"
      ],
      "metadata": {
        "colab": {
          "base_uri": "https://localhost:8080/",
          "height": 131
        },
        "cellView": "form",
        "id": "3iwzQVoMATUF",
        "outputId": "606e1d28-149e-4205-c4c1-0353a4b32faf"
      },
      "execution_count": 5,
      "outputs": [
        {
          "output_type": "display_data",
          "data": {
            "text/plain": [
              "<IPython.core.display.HTML object>"
            ],
            "text/html": [
              "<style>\n",
              "div.orange-alert {\n",
              "    color: #854f00; /* Darker shade of orange for text */\n",
              "    background-color: #ffe6cc; /* Light orange background */\n",
              "    border-left: 5px solid #ff9933; /* Bright orange border */\n",
              "    padding: 0.5em;\n",
              "    font-size: 1.25em; /* Matches the surrounding text size */\n",
              "    line-height: 1.5; /* Ensures readability */\n",
              "}\n",
              "div.orange-alert ul {\n",
              "    margin: 0.5em 0; /* Space around the list */\n",
              "}\n",
              "div.orange-alert li {\n",
              "    margin-bottom: 0.5em; /* Space between list items */\n",
              "}\n",
              "</style>\n",
              "<div class=\"orange-alert\">\n",
              "    <strong>Exercise on File Parsing:</strong>\n",
              "    <p>\n",
              "        The file <code>03_Prod.mdout</code> is an output file from an Amber molecular dynamics simulation.\n",
              "        Read in the file, and pull out all of the total energy values (<code>Etot</code>). Save the values in a list (don't forget to cast them to floating point numbers!).\n",
              "    </p>\n",
              "\n",
              "    <p>Remember to preview the file before you start writing code so you can come up with a strategy for pulling information from the file!</p> \n",
              "</div>\n"
            ]
          },
          "metadata": {}
        }
      ]
    },
    {
      "cell_type": "code",
      "source": [],
      "metadata": {
        "id": "SbaBT5sMAjeC"
      },
      "execution_count": null,
      "outputs": []
    },
    {
      "cell_type": "code",
      "source": [],
      "metadata": {
        "id": "J_mvPADDAjmo"
      },
      "execution_count": null,
      "outputs": []
    },
    {
      "cell_type": "code",
      "source": [],
      "metadata": {
        "id": "iO6rb8xlAjpa"
      },
      "execution_count": null,
      "outputs": []
    },
    {
      "cell_type": "code",
      "source": [],
      "metadata": {
        "id": "REQ1QHBrAjvT"
      },
      "execution_count": null,
      "outputs": []
    },
    {
      "cell_type": "code",
      "source": [
        "# @title Key Points\n",
        "%%html\n",
        "<style>\n",
        "div.green-note {\n",
        "    color: #155724; /* Dark green for text */\n",
        "    background-color: #d4edda; /* Light green background */\n",
        "    border-left: 5px solid #28a745; /* Bright green border */\n",
        "    padding: 0.5em;\n",
        "    font-size: 1.25em; /* Consistent with text size */\n",
        "    line-height: 1.5; /* Ensures readability */\n",
        "    font-family: Arial, sans-serif; /* Clean and modern font */\n",
        "}\n",
        "div.green-note ul {\n",
        "    margin: 0.5em 0; /* Space around the list */\n",
        "}\n",
        "div.green-note li {\n",
        "    margin-bottom: 0.5em; /* Space between list items */\n",
        "}\n",
        "</style>\n",
        "\n",
        "<div class=\"green-note\">\n",
        "    <strong>Key Points:</strong>\n",
        "    <ul>\n",
        "        <li>Files have locations called file paths that tell a computer where the file is saved.</li>\n",
        "        <li>To open a file, use <code>with open(filename)</code>.</li>\n",
        "        <li>Get contents of a text file in a variable using <code>readlines</code>.</li>\n",
        "        <li>You can search through the lines in your file by using a <code>for</code> loop to go through each line and an <code>if</code> statement to look for a pattern.</li>\n",
        "    </ul>\n",
        "</div>\n"
      ],
      "metadata": {
        "colab": {
          "base_uri": "https://localhost:8080/",
          "height": 236
        },
        "id": "yNHUtnfxBPi4",
        "outputId": "112e5282-6a08-4c4d-a9ba-2ec2070de333",
        "cellView": "form"
      },
      "execution_count": null,
      "outputs": [
        {
          "output_type": "display_data",
          "data": {
            "text/plain": [
              "<IPython.core.display.HTML object>"
            ],
            "text/html": [
              "<style>\n",
              "div.green-note {\n",
              "    color: #155724; /* Dark green for text */\n",
              "    background-color: #d4edda; /* Light green background */\n",
              "    border-left: 5px solid #28a745; /* Bright green border */\n",
              "    padding: 0.5em;\n",
              "    font-size: 1.25em; /* Consistent with text size */\n",
              "    line-height: 1.5; /* Ensures readability */\n",
              "    font-family: Arial, sans-serif; /* Clean and modern font */\n",
              "}\n",
              "div.green-note ul {\n",
              "    margin: 0.5em 0; /* Space around the list */\n",
              "}\n",
              "div.green-note li {\n",
              "    margin-bottom: 0.5em; /* Space between list items */\n",
              "}\n",
              "</style>\n",
              "\n",
              "<div class=\"green-note\">\n",
              "    <strong>Key Points:</strong>\n",
              "    <ul>\n",
              "        <li>Files have locations called file paths that tell a computer where the file is saved.</li>\n",
              "        <li>To open a file, use <code>with open(filename)</code>.</li>\n",
              "        <li>Get contents of a text file in a variable using <code>readlines</code>.</li>\n",
              "        <li>You can search through the lines in your file by using a <code>for</code> loop to go through each line and an <code>if</code> statement to look for a pattern.</li>\n",
              "    </ul>\n",
              "</div>\n"
            ]
          },
          "metadata": {}
        }
      ]
    }
  ],
  "metadata": {
    "kernelspec": {
      "display_name": "molssi-training",
      "language": "python",
      "name": "python3"
    },
    "language_info": {
      "codemirror_mode": {
        "name": "ipython",
        "version": 3
      },
      "file_extension": ".py",
      "mimetype": "text/x-python",
      "name": "python",
      "nbconvert_exporter": "python",
      "pygments_lexer": "ipython3",
      "version": "3.11.6"
    },
    "orig_nbformat": 4,
    "vscode": {
      "interpreter": {
        "hash": "16d4a7bb199d969b1271ebe46f77414b0d9cd01b3c3983c2b2742fc6cd4503d3"
      }
    },
    "colab": {
      "provenance": []
    }
  },
  "nbformat": 4,
  "nbformat_minor": 0
}